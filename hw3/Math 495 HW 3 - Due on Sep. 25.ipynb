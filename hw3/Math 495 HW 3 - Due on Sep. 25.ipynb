{
 "cells": [
  {
   "cell_type": "markdown",
   "metadata": {},
   "source": [
    "## Instructions"
   ]
  },
  {
   "cell_type": "markdown",
   "metadata": {},
   "source": [
    "1) Start the first cell with your name, HWnumber, etc. For example, HW3_solutions_basnet.\n",
    "\n",
    "2) After you finish the HW, click File on the top left and click \"download as.\" You will see many options. Please save the file as .ipynb and .html file.\n",
    "\n",
    "3) To submit HW solutions, go to our course in Canvas --> Assignments --> HW 3 --> Submit Assignment --> Click \"Chose file\" --> choose HTML file you saved --> Click another file--> choose ipynb file--submit. Once you submit, download  and check to make sure that you have submitted the correct files.\n",
    "\n",
    "4) Your submission will be compared against other student's solutions and online databases to check plagiarism.\n",
    "\n",
    "5) You can use this ipynb file to start your solution.\n"
   ]
  },
  {
   "cell_type": "markdown",
   "metadata": {},
   "source": [
    "#### Each problem is worth 10 points."
   ]
  },
  {
   "cell_type": "code",
   "execution_count": 1,
   "metadata": {},
   "outputs": [],
   "source": [
    "#import packages\n",
    "import pandas as pd\n",
    "import numpy as np"
   ]
  },
  {
   "cell_type": "markdown",
   "metadata": {},
   "source": [
    "#### Points: $15\\times 3 + 25 + 30 = 100$"
   ]
  },
  {
   "cell_type": "markdown",
   "metadata": {},
   "source": [
    "### Problem 1. \n",
    "Use arange or linspace funtion to make a list \"A\" of  out equally spaced 320 numbers from -10 to 10. Then find the cartesin product $A\\times A$. List the first 5 and last 5 order pairs. Learn more about these function here. https://numpy.org/doc/stable/reference/generated/numpy.linspace.html and https://numpy.org/doc/stable/reference/generated/numpy.arange.html"
   ]
  },
  {
   "cell_type": "code",
   "execution_count": 2,
   "metadata": {},
   "outputs": [
    {
     "name": "stdout",
     "output_type": "stream",
     "text": [
      "[-10.          -9.93730408  -9.87460815  -9.81191223  -9.7492163\n",
      "  -9.68652038  -9.62382445  -9.56112853  -9.4984326   -9.43573668\n",
      "  -9.37304075  -9.31034483  -9.2476489   -9.18495298  -9.12225705\n",
      "  -9.05956113  -8.9968652   -8.93416928  -8.87147335  -8.80877743\n",
      "  -8.7460815   -8.68338558  -8.62068966  -8.55799373  -8.49529781\n",
      "  -8.43260188  -8.36990596  -8.30721003  -8.24451411  -8.18181818\n",
      "  -8.11912226  -8.05642633  -7.99373041  -7.93103448  -7.86833856\n",
      "  -7.80564263  -7.74294671  -7.68025078  -7.61755486  -7.55485893\n",
      "  -7.49216301  -7.42946708  -7.36677116  -7.30407524  -7.24137931\n",
      "  -7.17868339  -7.11598746  -7.05329154  -6.99059561  -6.92789969\n",
      "  -6.86520376  -6.80250784  -6.73981191  -6.67711599  -6.61442006\n",
      "  -6.55172414  -6.48902821  -6.42633229  -6.36363636  -6.30094044\n",
      "  -6.23824451  -6.17554859  -6.11285266  -6.05015674  -5.98746082\n",
      "  -5.92476489  -5.86206897  -5.79937304  -5.73667712  -5.67398119\n",
      "  -5.61128527  -5.54858934  -5.48589342  -5.42319749  -5.36050157\n",
      "  -5.29780564  -5.23510972  -5.17241379  -5.10971787  -5.04702194\n",
      "  -4.98432602  -4.92163009  -4.85893417  -4.79623824  -4.73354232\n",
      "  -4.67084639  -4.60815047  -4.54545455  -4.48275862  -4.4200627\n",
      "  -4.35736677  -4.29467085  -4.23197492  -4.169279    -4.10658307\n",
      "  -4.04388715  -3.98119122  -3.9184953   -3.85579937  -3.79310345\n",
      "  -3.73040752  -3.6677116   -3.60501567  -3.54231975  -3.47962382\n",
      "  -3.4169279   -3.35423197  -3.29153605  -3.22884013  -3.1661442\n",
      "  -3.10344828  -3.04075235  -2.97805643  -2.9153605   -2.85266458\n",
      "  -2.78996865  -2.72727273  -2.6645768   -2.60188088  -2.53918495\n",
      "  -2.47648903  -2.4137931   -2.35109718  -2.28840125  -2.22570533\n",
      "  -2.1630094   -2.10031348  -2.03761755  -1.97492163  -1.91222571\n",
      "  -1.84952978  -1.78683386  -1.72413793  -1.66144201  -1.59874608\n",
      "  -1.53605016  -1.47335423  -1.41065831  -1.34796238  -1.28526646\n",
      "  -1.22257053  -1.15987461  -1.09717868  -1.03448276  -0.97178683\n",
      "  -0.90909091  -0.84639498  -0.78369906  -0.72100313  -0.65830721\n",
      "  -0.59561129  -0.53291536  -0.47021944  -0.40752351  -0.34482759\n",
      "  -0.28213166  -0.21943574  -0.15673981  -0.09404389  -0.03134796\n",
      "   0.03134796   0.09404389   0.15673981   0.21943574   0.28213166\n",
      "   0.34482759   0.40752351   0.47021944   0.53291536   0.59561129\n",
      "   0.65830721   0.72100313   0.78369906   0.84639498   0.90909091\n",
      "   0.97178683   1.03448276   1.09717868   1.15987461   1.22257053\n",
      "   1.28526646   1.34796238   1.41065831   1.47335423   1.53605016\n",
      "   1.59874608   1.66144201   1.72413793   1.78683386   1.84952978\n",
      "   1.91222571   1.97492163   2.03761755   2.10031348   2.1630094\n",
      "   2.22570533   2.28840125   2.35109718   2.4137931    2.47648903\n",
      "   2.53918495   2.60188088   2.6645768    2.72727273   2.78996865\n",
      "   2.85266458   2.9153605    2.97805643   3.04075235   3.10344828\n",
      "   3.1661442    3.22884013   3.29153605   3.35423197   3.4169279\n",
      "   3.47962382   3.54231975   3.60501567   3.6677116    3.73040752\n",
      "   3.79310345   3.85579937   3.9184953    3.98119122   4.04388715\n",
      "   4.10658307   4.169279     4.23197492   4.29467085   4.35736677\n",
      "   4.4200627    4.48275862   4.54545455   4.60815047   4.67084639\n",
      "   4.73354232   4.79623824   4.85893417   4.92163009   4.98432602\n",
      "   5.04702194   5.10971787   5.17241379   5.23510972   5.29780564\n",
      "   5.36050157   5.42319749   5.48589342   5.54858934   5.61128527\n",
      "   5.67398119   5.73667712   5.79937304   5.86206897   5.92476489\n",
      "   5.98746082   6.05015674   6.11285266   6.17554859   6.23824451\n",
      "   6.30094044   6.36363636   6.42633229   6.48902821   6.55172414\n",
      "   6.61442006   6.67711599   6.73981191   6.80250784   6.86520376\n",
      "   6.92789969   6.99059561   7.05329154   7.11598746   7.17868339\n",
      "   7.24137931   7.30407524   7.36677116   7.42946708   7.49216301\n",
      "   7.55485893   7.61755486   7.68025078   7.74294671   7.80564263\n",
      "   7.86833856   7.93103448   7.99373041   8.05642633   8.11912226\n",
      "   8.18181818   8.24451411   8.30721003   8.36990596   8.43260188\n",
      "   8.49529781   8.55799373   8.62068966   8.68338558   8.7460815\n",
      "   8.80877743   8.87147335   8.93416928   8.9968652    9.05956113\n",
      "   9.12225705   9.18495298   9.2476489    9.31034483   9.37304075\n",
      "   9.43573668   9.4984326    9.56112853   9.62382445   9.68652038\n",
      "   9.7492163    9.81191223   9.87460815   9.93730408  10.        ]\n",
      "[[-10.         -10.        ]\n",
      " [ -9.93730408 -10.        ]\n",
      " [ -9.87460815 -10.        ]\n",
      " ...\n",
      " [  9.87460815  10.        ]\n",
      " [  9.93730408  10.        ]\n",
      " [ 10.          10.        ]]\n"
     ]
    }
   ],
   "source": [
    "A = np.linspace(-10, 10, 320, endpoint=True)\n",
    "print(A)\n",
    "AxA = np.transpose([np.tile(A, len(A)), np.repeat(A, len(A))])\n",
    "print((AxA))"
   ]
  },
  {
   "cell_type": "markdown",
   "metadata": {},
   "source": [
    "### Problem 2. \n",
    "The function known as sinc function and written as $sinc (x) =\\dfrac{\\sin x}{x}$ is one of the most useful function in Mathematics. Sinc function paved the way to convert a continous signal (function) to a discrete one, process in a computer without loosing most of the information contained in the signal.\n",
    "\n",
    "Find a list of values of the sinc function at all the points in the list A from problem 1. Note that at $x=0$, $sinc (0) =\\dfrac{\\sin 0}{0}=\\dfrac{ 0}{0}$(undefined) but the code does not give any error about undefined. Find out what is going on. Read more about the sinc function following the links below. https://en.wikipedia.org/wiki/Whittaker%E2%80%93Shannon_interpolation_formula  and\n",
    "https://en.wikipedia.org/wiki/Sinc_function"
   ]
  },
  {
   "cell_type": "code",
   "execution_count": 3,
   "metadata": {},
   "outputs": [],
   "source": [
    "# sincA = []\n",
    "# for point in A:\n",
    "#     if point == 0:\n",
    "#         print(point)\n",
    "#         print(np.sinc(point)/point)\n",
    "#     sincA.append(np.sinc(point)/point)\n",
    "# print(sincA)\n",
    "sincA = np.sinc(A)"
   ]
  },
  {
   "cell_type": "markdown",
   "metadata": {},
   "source": [
    "#### We will be using plotting packages in Jupyter notebook. Please familiariaze with the following packages if you have not already."
   ]
  },
  {
   "cell_type": "code",
   "execution_count": 4,
   "metadata": {},
   "outputs": [],
   "source": [
    "import matplotlib as mpt\n",
    "import matplotlib.pyplot as plt\n",
    "import seaborn as sbn"
   ]
  },
  {
   "cell_type": "markdown",
   "metadata": {},
   "source": [
    "### Problem 3. \n",
    "Make a plot with the $A$ in $x$-axis and values of the sinc function in y axis."
   ]
  },
  {
   "cell_type": "code",
   "execution_count": 5,
   "metadata": {},
   "outputs": [
    {
     "data": {
      "text/plain": [
       "[<matplotlib.lines.Line2D at 0x1255bfe50>]"
      ]
     },
     "execution_count": 5,
     "metadata": {},
     "output_type": "execute_result"
    },
    {
     "data": {
      "image/png": "[encoded data removed]",
      "text/plain": [
       "<Figure size 432x288 with 1 Axes>"
      ]
     },
     "metadata": {
      "needs_background": "light"
     },
     "output_type": "display_data"
    }
   ],
   "source": [
    "plt.plot(A, sincA)"
   ]
  },
  {
   "cell_type": "markdown",
   "metadata": {},
   "source": [
    "### Problem 4. \n",
    "Find the cartesian product $B\\times B$ for $B=np.arange(-5,5,1)$.  Select a relation $R$ that has 10 pairs that are randomly selected from $B\\times B$. Make a Boolean matrix of this relation. Boolean matrix $M$ of a relation $R\\subseteq X\\times Y$ is defined as $M = (m_{ij})=\\begin{cases} 1 &\\mbox{if } (x_i,y_j\\in R \\\\\n",
    "0 & \\mbox{if }(x_i,y_j\\notin R \\end{cases}$"
   ]
  },
  {
   "cell_type": "code",
   "execution_count": 6,
   "metadata": {},
   "outputs": [
    {
     "name": "stdout",
     "output_type": "stream",
     "text": [
      "   -5 -4 -3 -2 -1  0  1  2  3  4\n",
      "-5  0  0  0  0  0  0  0  0  0  0\n",
      "-4  0  1  0  0  0  0  0  0  0  0\n",
      "-3  0  0  0  0  0  0  0  0  0  0\n",
      "-2  0  0  1  0  0  0  0  0  0  1\n",
      "-1  0  0  0  0  0  0  0  0  0  0\n",
      " 0  0  0  0  0  0  0  0  1  0  0\n",
      " 1  0  0  0  0  1  0  0  0  0  0\n",
      " 2  0  0  0  0  0  0  0  0  0  0\n",
      " 3  1  0  1  0  0  0  1  0  0  0\n",
      " 4  1  0  0  0  0  0  0  0  1  0\n"
     ]
    }
   ],
   "source": [
    "import random\n",
    "B = np.arange(-5,5,1)\n",
    "BxB = np.transpose([np.tile(B, len(B)), np.repeat(B, len(B))])\n",
    "RandomList = []  \n",
    "[RandomList.append(random.choice(BxB)) for num in range(10)]\n",
    "df = pd.DataFrame([B],index=[B])\n",
    "df = pd.DataFrame(0, columns=df.index, index=df.index)\n",
    "\n",
    "def createBooleanMatrix(df, rlist): \n",
    "    for el in rlist:\n",
    "        df.iloc[el[0]][el[1]] = 1\n",
    "    return df\n",
    "\n",
    "print(createBooleanMatrix(df,RandomList))\n",
    "# df.columns = Bdf = pd.DataFrame(0 ,columns=[B],index=[B])"
   ]
  },
  {
   "cell_type": "markdown",
   "metadata": {},
   "source": [
    "### Problem 5. \n",
    "Solve the Transcendental equation $\\sin^2 x - x^2+1 = 0$ that is correct up to 5 decimal places. This means that if you plug in the answer you got in $f(x)=\\sin^2 x - x^2+1$, then you should get $0.00000a\\cdots\\cdot$ where $a$ is some number. You can use any method: Secant, Newton's, or maybe approximate $\\sin^2 x$ first by a certain polynomial (up to a degree you think is good enough here) and turn the equation to a polynomial one. Please note that if you type this equation in Wolfram alpha, you get the solution right away. The point of the problem is to write some python code to get that result. "
   ]
  },
  {
   "cell_type": "code",
   "execution_count": 7,
   "metadata": {},
   "outputs": [
    {
     "name": "stdout",
     "output_type": "stream",
     "text": [
      "solution :  1.4044916523576294\n"
     ]
    }
   ],
   "source": [
    "def function(x):\n",
    "        return np.sin(x)**2 - x**2+1\n",
    "def functionDerivative(x): \n",
    "        return 2*(np.sin(x)*np.cos(x) - x) \n",
    "def Solve(x,func,funcD):\n",
    "    if x != None and 0 == int(func(x) *100000):\n",
    "        return x\n",
    "    else:\n",
    "        x = x-func(x)/funcD(x)\n",
    "        return Solve(x,func,funcD)\n",
    "print(\"solution : \", Solve(4,function,functionDerivative))"
   ]
  },
  {
   "cell_type": "code",
   "execution_count": null,
   "metadata": {},
   "outputs": [],
   "source": []
  }
 ],
 "metadata": {
  "kernelspec": {
   "display_name": "Python 3",
   "language": "python",
   "name": "python3"
  },
  "language_info": {
   "codemirror_mode": {
    "name": "ipython",
    "version": 3
   },
   "file_extension": ".py",
   "mimetype": "text/x-python",
   "name": "python",
   "nbconvert_exporter": "python",
   "pygments_lexer": "ipython3",
   "version": "3.8.5"
  }
 },
 "nbformat": 4,
 "nbformat_minor": 2
}
