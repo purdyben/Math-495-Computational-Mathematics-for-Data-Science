{
 "cells": [
  {
   "cell_type": "markdown",
   "metadata": {},
   "source": [
    "# This exam is due on 10/2/2020 Friday at 11:59 PM"
   ]
  },
  {
   "cell_type": "markdown",
   "metadata": {},
   "source": [
    "### Read the following instructions carefully."
   ]
  },
  {
   "cell_type": "markdown",
   "metadata": {},
   "source": [
    "1. There are 5 problems in this test, and each is worth 20 points. There is also a bonus problem that is worth 10 points.\n",
    "\n",
    "2. Collaborating is not allowed in this Exam. Piazza common forum will be in a radio silence during this Exam. You should not share your code in the piazza or anywhere, either. If you need to ask me something, make it a private post. I will be running plagiarism software to check all the submitted solutions. Any academic misconduct will be reported to the dean of students office immediately.\n",
    "\n",
    "3. You can use our textbooks, posted lab and HWs solutions, and the internet to get help with the Exam.\n",
    "\n",
    "4. Each problem and parts of these problems should be answered with codes and written analysis. Missing one or more of these codes and analysis is considered to be an incomplete solution.\n",
    "\n",
    "5. When you solve exam problems, I want you to clean up the final submission file. For example, do not show the whole data if it is not asked. Do not print unnecessary output. Clearly label the solutions and write solutions right underneath the problem.\n",
    "\n",
    "6. Submit the exam  in Canvas by following the link in canvas. Both files: html and ipynb are required for your exam 1 solution to be graded.\n"
   ]
  },
  {
   "cell_type": "markdown",
   "metadata": {},
   "source": [
    "This exam uses diabetes data. More details about the data can be found in the following link.\n",
    "https://data.world/data-society/pima-indians-diabetes-database"
   ]
  },
  {
   "cell_type": "markdown",
   "metadata": {},
   "source": [
    "### Problem 1\n",
    "Upload the diabetes data, remove the null values if there is any and check the data types of all the variables to make sure that variables are labeled correctly. Find out which variables have how many zeros. The zero values of Glucose, BloodPressure, BMI do not make any sense. Remove the rows where these three variables have zero values. Report the dimensions of the data and use the describe function to display various facts about the data."
   ]
  },
  {
   "cell_type": "code",
   "execution_count": 35,
   "metadata": {},
   "outputs": [],
   "source": [
    "#import packages\n",
    "import pandas as pd\n",
    "import numpy as np"
   ]
  },
  {
   "cell_type": "code",
   "execution_count": 36,
   "metadata": {},
   "outputs": [
    {
     "name": "stdout",
     "output_type": "stream",
     "text": [
      "written analysis\n",
      "Finction removeZeros() all zeros from Glucose, BloodPressure, BMI\n",
      "diabetes.dropna(axis=0,inplace=True) removes all missing rows \n",
      "diabetes.astype(bool).sum(axis=0) gives us the number of non 0 elements. So diabetes.shape[0] gives us the total number of elements\n",
      "\n",
      "dimensions (724, 9)\n",
      "number of zeros\n",
      "Pregnancies                  99\n",
      "Glucose                       0\n",
      "BloodPressure                 0\n",
      "SkinThickness               192\n",
      "Insulin                     332\n",
      "BMI                           0\n",
      "DiabetesPedigreeFunction      0\n",
      "Age                           0\n",
      "Outcome                     475\n",
      "dtype: int64\n"
     ]
    },
    {
     "data": {
      "text/html": [
       "<div>\n",
       "<style scoped>\n",
       "    .dataframe tbody tr th:only-of-type {\n",
       "        vertical-align: middle;\n",
       "    }\n",
       "\n",
       "    .dataframe tbody tr th {\n",
       "        vertical-align: top;\n",
       "    }\n",
       "\n",
       "    .dataframe thead th {\n",
       "        text-align: right;\n",
       "    }\n",
       "</style>\n",
       "<table border=\"1\" class=\"dataframe\">\n",
       "  <thead>\n",
       "    <tr style=\"text-align: right;\">\n",
       "      <th></th>\n",
       "      <th>Pregnancies</th>\n",
       "      <th>Glucose</th>\n",
       "      <th>BloodPressure</th>\n",
       "      <th>SkinThickness</th>\n",
       "      <th>Insulin</th>\n",
       "      <th>BMI</th>\n",
       "      <th>DiabetesPedigreeFunction</th>\n",
       "      <th>Age</th>\n",
       "      <th>Outcome</th>\n",
       "    </tr>\n",
       "  </thead>\n",
       "  <tbody>\n",
       "    <tr>\n",
       "      <th>0</th>\n",
       "      <td>6</td>\n",
       "      <td>148</td>\n",
       "      <td>72</td>\n",
       "      <td>35</td>\n",
       "      <td>0</td>\n",
       "      <td>33.6</td>\n",
       "      <td>0.627</td>\n",
       "      <td>50</td>\n",
       "      <td>1</td>\n",
       "    </tr>\n",
       "    <tr>\n",
       "      <th>1</th>\n",
       "      <td>1</td>\n",
       "      <td>85</td>\n",
       "      <td>66</td>\n",
       "      <td>29</td>\n",
       "      <td>0</td>\n",
       "      <td>26.6</td>\n",
       "      <td>0.351</td>\n",
       "      <td>31</td>\n",
       "      <td>0</td>\n",
       "    </tr>\n",
       "    <tr>\n",
       "      <th>2</th>\n",
       "      <td>8</td>\n",
       "      <td>183</td>\n",
       "      <td>64</td>\n",
       "      <td>0</td>\n",
       "      <td>0</td>\n",
       "      <td>23.3</td>\n",
       "      <td>0.672</td>\n",
       "      <td>32</td>\n",
       "      <td>1</td>\n",
       "    </tr>\n",
       "    <tr>\n",
       "      <th>3</th>\n",
       "      <td>1</td>\n",
       "      <td>89</td>\n",
       "      <td>66</td>\n",
       "      <td>23</td>\n",
       "      <td>94</td>\n",
       "      <td>28.1</td>\n",
       "      <td>0.167</td>\n",
       "      <td>21</td>\n",
       "      <td>0</td>\n",
       "    </tr>\n",
       "    <tr>\n",
       "      <th>4</th>\n",
       "      <td>0</td>\n",
       "      <td>137</td>\n",
       "      <td>40</td>\n",
       "      <td>35</td>\n",
       "      <td>168</td>\n",
       "      <td>43.1</td>\n",
       "      <td>2.288</td>\n",
       "      <td>33</td>\n",
       "      <td>1</td>\n",
       "    </tr>\n",
       "    <tr>\n",
       "      <th>...</th>\n",
       "      <td>...</td>\n",
       "      <td>...</td>\n",
       "      <td>...</td>\n",
       "      <td>...</td>\n",
       "      <td>...</td>\n",
       "      <td>...</td>\n",
       "      <td>...</td>\n",
       "      <td>...</td>\n",
       "      <td>...</td>\n",
       "    </tr>\n",
       "    <tr>\n",
       "      <th>763</th>\n",
       "      <td>10</td>\n",
       "      <td>101</td>\n",
       "      <td>76</td>\n",
       "      <td>48</td>\n",
       "      <td>180</td>\n",
       "      <td>32.9</td>\n",
       "      <td>0.171</td>\n",
       "      <td>63</td>\n",
       "      <td>0</td>\n",
       "    </tr>\n",
       "    <tr>\n",
       "      <th>764</th>\n",
       "      <td>2</td>\n",
       "      <td>122</td>\n",
       "      <td>70</td>\n",
       "      <td>27</td>\n",
       "      <td>0</td>\n",
       "      <td>36.8</td>\n",
       "      <td>0.340</td>\n",
       "      <td>27</td>\n",
       "      <td>0</td>\n",
       "    </tr>\n",
       "    <tr>\n",
       "      <th>765</th>\n",
       "      <td>5</td>\n",
       "      <td>121</td>\n",
       "      <td>72</td>\n",
       "      <td>23</td>\n",
       "      <td>112</td>\n",
       "      <td>26.2</td>\n",
       "      <td>0.245</td>\n",
       "      <td>30</td>\n",
       "      <td>0</td>\n",
       "    </tr>\n",
       "    <tr>\n",
       "      <th>766</th>\n",
       "      <td>1</td>\n",
       "      <td>126</td>\n",
       "      <td>60</td>\n",
       "      <td>0</td>\n",
       "      <td>0</td>\n",
       "      <td>30.1</td>\n",
       "      <td>0.349</td>\n",
       "      <td>47</td>\n",
       "      <td>1</td>\n",
       "    </tr>\n",
       "    <tr>\n",
       "      <th>767</th>\n",
       "      <td>1</td>\n",
       "      <td>93</td>\n",
       "      <td>70</td>\n",
       "      <td>31</td>\n",
       "      <td>0</td>\n",
       "      <td>30.4</td>\n",
       "      <td>0.315</td>\n",
       "      <td>23</td>\n",
       "      <td>0</td>\n",
       "    </tr>\n",
       "  </tbody>\n",
       "</table>\n",
       "<p>724 rows × 9 columns</p>\n",
       "</div>"
      ],
      "text/plain": [
       "     Pregnancies  Glucose  BloodPressure  SkinThickness  Insulin   BMI  \\\n",
       "0              6      148             72             35        0  33.6   \n",
       "1              1       85             66             29        0  26.6   \n",
       "2              8      183             64              0        0  23.3   \n",
       "3              1       89             66             23       94  28.1   \n",
       "4              0      137             40             35      168  43.1   \n",
       "..           ...      ...            ...            ...      ...   ...   \n",
       "763           10      101             76             48      180  32.9   \n",
       "764            2      122             70             27        0  36.8   \n",
       "765            5      121             72             23      112  26.2   \n",
       "766            1      126             60              0        0  30.1   \n",
       "767            1       93             70             31        0  30.4   \n",
       "\n",
       "     DiabetesPedigreeFunction  Age  Outcome  \n",
       "0                       0.627   50        1  \n",
       "1                       0.351   31        0  \n",
       "2                       0.672   32        1  \n",
       "3                       0.167   21        0  \n",
       "4                       2.288   33        1  \n",
       "..                        ...  ...      ...  \n",
       "763                     0.171   63        0  \n",
       "764                     0.340   27        0  \n",
       "765                     0.245   30        0  \n",
       "766                     0.349   47        1  \n",
       "767                     0.315   23        0  \n",
       "\n",
       "[724 rows x 9 columns]"
      ]
     },
     "execution_count": 36,
     "metadata": {},
     "output_type": "execute_result"
    }
   ],
   "source": [
    "#Upload the diabetes data\n",
    "diabetes = pd.read_csv(\"diabetes.csv\") \n",
    "print(\"written analysis\" )\n",
    "print(\"Finction removeZeros() all zeros from Glucose, BloodPressure, BMI\" )\n",
    "print(\"diabetes.dropna(axis=0,inplace=True) removes all missing rows \")\n",
    "print(\"diabetes.astype(bool).sum(axis=0) gives us the number of non 0 elements. So diabetes.shape[0] gives us the total number of elements\\n\")\n",
    "\n",
    "def removeZeros(dataframe):\n",
    "    data = dataframe[['BloodPressure','Glucose','BMI']]\n",
    "    for row in data.index:\n",
    "        if data.loc[row, 'BloodPressure'] == 0 or data.loc[row, 'Glucose'] == 0 or data.loc[row, 'BMI'] == 0:\n",
    "            dataframe = dataframe.drop(row, axis=0)\n",
    "    return dataframe\n",
    "\n",
    "#remove all zeros\n",
    "diabetes = removeZeros(diabetes)\n",
    "#remove the null values\n",
    "diabetes.dropna(axis=0,inplace=True)\n",
    "print(\"dimensions\",diabetes.shape)\n",
    "print(\"number of zeros\")\n",
    "print(diabetes.shape[0] - diabetes.astype(bool).sum(axis=0)  )\n",
    "diabetes.describe()\n",
    "diabetes\n"
   ]
  },
  {
   "cell_type": "markdown",
   "metadata": {},
   "source": [
    "Use the data obtained in problem 1 for the following problems."
   ]
  },
  {
   "cell_type": "markdown",
   "metadata": {},
   "source": [
    "###  Problem 2\n",
    "The Glucose variable lists all the Pima Indian women's glucose in the data set after 2 hours of the glucose tolerance test. Suppose a prediabetic person's blood glucose ranges between 140 and 199 mg/dl (both included). Also, anybody who has a BMI of more than 30 is obese. Find out how many prediabetic Pima Indian women who were obese did not have diabetes. Make at least one more observation about these women by looking at the data you came up with."
   ]
  },
  {
   "cell_type": "code",
   "execution_count": 55,
   "metadata": {},
   "outputs": [
    {
     "name": "stdout",
     "output_type": "stream",
     "text": [
      "obese > 30 but did not have diabetes 36\n",
      "for patients is over Age and Glucose is > 100 they have 59% chance to have diabetes 0.5947712418300654\n"
     ]
    }
   ],
   "source": [
    "# diabetes.query('Glucose <= 199 or Glucose >= 140 or BMI > 30')\n",
    "\n",
    "print(\"obese > 30 but did not have diabetes\" ,len(diabetes.query('Glucose > 140 and Glucose < 199 and BMI > 30 and Outcome == 0')) )\n",
    "\n",
    "# one more observation\n",
    "print(\"for patients is over Age and Glucose is > 100 they have 59% chance to have diabetes\",diabetes.query('Age > 40 and Glucose > 100')['Outcome'].mean())\n"
   ]
  },
  {
   "cell_type": "markdown",
   "metadata": {},
   "source": [
    "### Problem 3\n",
    " Let's define two new variables.  Weight is a new variable defined as follows: underweight if  BMI $<$ 18.5;\n",
    "normalweight if  18.5 $\\leq $ BMI $<$ 25; overweight if  25 $\\leq $ BMI $<$ 30; and \n",
    "obese if  BMI $\\geq 30$. BPclass is another new variable defined as follows: normal if BloodPressure $\\leq $ 80; stage1hypertension if BloodPressure is $> 80$ and $\\leq 89$; stage2hypertension if BloodPressure is $> 89$. Answer the following questions.\n",
    "\n",
    "a) How many Pima Indian Women are in each Weight category? Use the Pigeonhole principle using total number of womens as pigeons and weight categoris as holes to make a statement.\n",
    "\n",
    "b) How many Pima Indian Women are in each BPclass category? Use Pigeonhole principle using total number of womens as pigeons  and BPclass categoris as holes to make a statement."
   ]
  },
  {
   "cell_type": "code",
   "execution_count": 38,
   "metadata": {},
   "outputs": [
    {
     "name": "stdout",
     "output_type": "stream",
     "text": [
      "written analysis\n",
      "setUpWeight() creates Weight column\n",
      "setUpBPclass(df) Creates BPclass column\n",
      "Then for part (A,B) we can uses a groupby(column index).size to get the number of each present varable\n",
      "\n",
      "part A :  Weight\n",
      "normalweight     96\n",
      "obese           624\n",
      "underweight       4\n",
      "dtype: int64\n",
      "part B :  BPclass\n",
      "normal                 561\n",
      "stage1hypertension     104\n",
      "stage2hypertension      59\n",
      "dtype: int64\n",
      "\n",
      "Pigeonhole principle : Since there are only 3 holes and 724 Pigeon then there is at least one hole with more then 1 Pigeon  \n"
     ]
    }
   ],
   "source": [
    "print(\"written analysis\" )\n",
    "print(\"setUpWeight() creates Weight column\" )\n",
    "print(\"setUpBPclass(df) Creates BPclass column\" )\n",
    "print(\"Then for part (A,B) we can uses a groupby(column index).size to get the number of each present varable\\n\")\n",
    "# Creates Weight column  \n",
    "def setUpWeight(df):\n",
    "    l = []\n",
    "    for index in df.index:\n",
    "        row = df.loc[index]\n",
    "        if row['BMI'] < 18.5 :\n",
    "            l.append('underweight')\n",
    "        elif row['BMI'] >= 18.5 and row['BMI'] < 25 :\n",
    "            l.append('normalweight')\n",
    "        elif row['BMI'] < 25 and row['BMI'] < 30:\n",
    "            l.append('overweight')\n",
    "        else:\n",
    "            l.append('obese')       \n",
    "    return l\n",
    "# Creates BPclass column  \n",
    "def setUpBPclass(df):\n",
    "    l = []\n",
    "    lnum = []\n",
    "    for index in df.index:\n",
    "        row = df.loc[index]\n",
    "        if row['BloodPressure'] <= 80 :\n",
    "            l.append('normal') \n",
    "            lnum.append(0)\n",
    "        elif row['BloodPressure'] > 80 and row['BloodPressure'] <= 89 :\n",
    "            l.append('stage1hypertension ')\n",
    "            lnum.append(1)\n",
    "        else:\n",
    "            l.append('stage2hypertension')\n",
    "            lnum.append(2)\n",
    "    df = df.assign(BPclass_oneHot = lnum) \n",
    "    return l,lnum\n",
    "l,lnum = setUpBPclass(diabetes)\n",
    "\n",
    "diabetes = diabetes.assign(Weight = setUpWeight(diabetes)) \n",
    "diabetes = diabetes.assign(BPclass = l) \n",
    "#one Hot Incoding \n",
    "diabetes = diabetes.assign(BPclass_oneHot = lnum) \n",
    "\n",
    "print(\"part A : \", diabetes.groupby('Weight').size())\n",
    "print(\"part B : \", diabetes.groupby('BPclass').size())\n",
    "\n",
    "print(\"\\nPigeonhole principle : Since there are only 3 holes and 724 Pigeon then there is at least one hole with more then 1 Pigeon  \")\n"
   ]
  },
  {
   "cell_type": "markdown",
   "metadata": {},
   "source": [
    "### Problem 4\n",
    "Plot the following: Vertical bar graph of the Weight variable, a pie chart of the BPclass variable, histogram (with 10 bins) of the Age variable, and scatter plot of the variables BMI (in x-axis) BloodPressure ( in the y-axis). Add labels, titles, legends where appropriate, different colors for different graphs in your plots. Finally, make at least one observation from each of the plots."
   ]
  },
  {
   "cell_type": "code",
   "execution_count": 39,
   "metadata": {},
   "outputs": [
    {
     "name": "stdout",
     "output_type": "stream",
     "text": [
      "written analysis\n",
      "Combination of matplotlib graphs and creation through pandas didnt know this was a thing\n"
     ]
    },
    {
     "data": {
      "image/png": "[encoded data removed]",
      "text/plain": [
       "<Figure size 432x288 with 1 Axes>"
      ]
     },
     "metadata": {
      "needs_background": "light"
     },
     "output_type": "display_data"
    },
    {
     "name": "stdout",
     "output_type": "stream",
     "text": [
      "scatter plot\n",
      "pi\n"
     ]
    },
    {
     "data": {
      "image/png": "[encoded data removed]",
      "text/plain": [
       "<Figure size 432x288 with 1 Axes>"
      ]
     },
     "metadata": {
      "needs_background": "light"
     },
     "output_type": "display_data"
    },
    {
     "data": {
      "image/png": "[encoded data removed]",
      "text/plain": [
       "<Figure size 432x288 with 1 Axes>"
      ]
     },
     "metadata": {},
     "output_type": "display_data"
    },
    {
     "name": "stdout",
     "output_type": "stream",
     "text": [
      "histogram\n"
     ]
    },
    {
     "data": {
      "image/png": "[encoded data removed]",
      "text/plain": [
       "<Figure size 432x288 with 1 Axes>"
      ]
     },
     "metadata": {
      "needs_background": "light"
     },
     "output_type": "display_data"
    }
   ],
   "source": [
    "import matplotlib as mpt\n",
    "import matplotlib.pyplot as plt\n",
    "import seaborn as sbn\n",
    "\n",
    "print(\"written analysis\" )\n",
    "print(\"Combination of matplotlib graphs and creation through pandas didnt know this was a thing\")\n",
    "#bar \n",
    "labels = ['normalweight','obese','underweight']\n",
    "data = []\n",
    "for s in  diabetes.groupby('Weight').size():\n",
    "    data.append(s)\n",
    "width = 0.35  \n",
    "fig, ax = plt.subplots()\n",
    "ax.set_ylabel('Number of people')\n",
    "ax.set_title('Weight')\n",
    "ax.bar(labels, data, width, label='Weight')\n",
    "plt.show()\n",
    "\n",
    "#scatter plot\n",
    "print(\"scatter plot\")\n",
    "scatter = diabetes.plot.scatter(x='BMI',\n",
    "                      y='BloodPressure',\n",
    "                      c='DarkBlue',title='BloodPressure over BMI')\n",
    "#pi\n",
    "print(\"pi\")\n",
    "labels = ['normal', 'stage1hypertension', 'stage2hypertension']\n",
    "data = []\n",
    "for s in  diabetes.groupby('BPclass').size():\n",
    "    data.append(s)\n",
    "fig1, ax1 = plt.subplots()\n",
    "ax1.pie(data, labels=labels, autopct='%1.1f%%',\n",
    "        shadow=True, startangle=90)\n",
    "ax1.axis('equal') \n",
    "\n",
    "plt.show()\n",
    "\n",
    "print(\"histogram\")\n",
    "# histogram = diabetes['Age'].hist(bins=10,color='green',title=\"histogram of Age\")\n",
    "histogram = diabetes['Age'].plot.hist(bins=10,color='green',title=\"histogram of Age\")"
   ]
  },
  {
   "cell_type": "markdown",
   "metadata": {},
   "source": [
    "### Problem 5\n",
    "If mean $=$ median $=$ mode for a variable, the variable will have a bell-shaped curve when we plot it. The curve will also be symmetric about the mean. Please note that the data with bell-shaped curve is ideal and hard to come by. Data is often skewed and has outliers. Karl Pearson, a renowned statistician, expressed the  relationship between mean, median, and mode for a data (ideal or not) as follows: Mode $-$ Median $= 2$ ( Median $-$ Mean). Do the following.\n",
    "\n",
    "a) For all the numerical variables, except Outcome, find Mode $-$3 Median $+$ 2 Mean. If this number is close to zero (positive or negative), then the variable is close to being symmetric. Find out which variables are close to symmetric and which are farther away from being symmetric.\n",
    "\n",
    "b) For all the numerical variables except Outcome, find the first quartile $Q_1$ and  third quartile $Q_3$.   For any variable, if any data falls below\n",
    "the number $ Q_1- 1.5 \\, IQR$ or falls above the number $ Q_3+ 1.5\\, IQR$ then those data points are outliers. Here $IQR = Q_3 - Q_1$ is called inter-quartile range. Find how many outliers does each numerical variables have?"
   ]
  },
  {
   "cell_type": "code",
   "execution_count": 40,
   "metadata": {},
   "outputs": [
    {
     "name": "stdout",
     "output_type": "stream",
     "text": [
      "written analysis\n",
      "a) using built in function in pandas we can get mean,median, and mode as a list for all vars \n",
      "then for each var in the three arrys we can find Mode  − 3 Median  +  2 Mean and if the var is symmetric\n",
      "b) using describe() we can get Q1 and Q_3 and 𝐼𝑄𝑅, Findoutliers(Q1,Q3,IQR, df) finds out if the number is below 𝑄1−1.5𝐼𝑄𝑅 or above 𝑄3+1.5𝐼𝑄𝑅   \n",
      "a) set .3 as the cut off tolerance : \n",
      " ['Pregnancies', 0.2679558011049723, 'BMI', 0.2657458563535755, 'DiabetesPedigreeFunction', 0.06653038674033152]\n",
      "\n",
      "b) liars\n"
     ]
    },
    {
     "data": {
      "text/html": [
       "<div>\n",
       "<style scoped>\n",
       "    .dataframe tbody tr th:only-of-type {\n",
       "        vertical-align: middle;\n",
       "    }\n",
       "\n",
       "    .dataframe tbody tr th {\n",
       "        vertical-align: top;\n",
       "    }\n",
       "\n",
       "    .dataframe thead th {\n",
       "        text-align: right;\n",
       "    }\n",
       "</style>\n",
       "<table border=\"1\" class=\"dataframe\">\n",
       "  <thead>\n",
       "    <tr style=\"text-align: right;\">\n",
       "      <th></th>\n",
       "      <th>Pregnancies</th>\n",
       "      <th>Glucose</th>\n",
       "      <th>BloodPressure</th>\n",
       "      <th>SkinThickness</th>\n",
       "      <th>Insulin</th>\n",
       "      <th>BMI</th>\n",
       "      <th>DiabetesPedigreeFunction</th>\n",
       "      <th>Age</th>\n",
       "    </tr>\n",
       "  </thead>\n",
       "  <tbody>\n",
       "    <tr>\n",
       "      <th>outliers</th>\n",
       "      <td>[4]</td>\n",
       "      <td>[0]</td>\n",
       "      <td>[14]</td>\n",
       "      <td>[1]</td>\n",
       "      <td>[29]</td>\n",
       "      <td>[7]</td>\n",
       "      <td>[28]</td>\n",
       "      <td>[7]</td>\n",
       "    </tr>\n",
       "  </tbody>\n",
       "</table>\n",
       "</div>"
      ],
      "text/plain": [
       "         Pregnancies Glucose BloodPressure SkinThickness Insulin  BMI  \\\n",
       "outliers         [4]     [0]          [14]           [1]    [29]  [7]   \n",
       "\n",
       "         DiabetesPedigreeFunction  Age  \n",
       "outliers                     [28]  [7]  "
      ]
     },
     "execution_count": 40,
     "metadata": {},
     "output_type": "execute_result"
    }
   ],
   "source": [
    "print(\"written analysis\" )\n",
    "print(\"a) using built in function in pandas we can get mean,median, and mode as a list for all vars \")\n",
    "print(\"then for each var in the three arrys we can find Mode  − 3 Median  +  2 Mean and if the var is symmetric\")\n",
    "print(\"b) using describe() we can get Q1 and Q_3 and 𝐼𝑄𝑅, Findoutliers(Q1,Q3,IQR, df) finds out if the number is below 𝑄1−1.5𝐼𝑄𝑅 or above 𝑄3+1.5𝐼𝑄𝑅   \")\n",
    "\n",
    "\n",
    "dataSet = diabetes[['Pregnancies','Glucose','BloodPressure','SkinThickness','Insulin','BMI','DiabetesPedigreeFunction','Age']]\n",
    "\n",
    "\n",
    "mean = dataSet.mean()\n",
    "median = dataSet.median()\n",
    "mode = dataSet.mode()\n",
    "\n",
    "\n",
    "def findA(mean,mode,median,tolerance ):\n",
    "    columns={ 0 : 'Pregnancies' , 1: 'Glucose' , 2: 'BloodPressure',3 : 'SkinThickness' , 4: 'Insulin' , 5: 'BMI', 6 : 'DiabetesPedigreeFunction' , 7: 'Age',8 : 'Outcome'}\n",
    "    symmetric = []\n",
    "    for index in range(len(mean)):\n",
    "        mean_i = mean[index]\n",
    "        median_i = median[index]\n",
    "        mode_i = mode[columns[index]]\n",
    "        if columns[index] != 'Outcome':\n",
    "            for n in range(3):\n",
    "                mode_row = mode_i.loc[n]\n",
    "                if np.isnan(mode_row) == False:\n",
    "                    #the magic \n",
    "                    value = abs(mode_row - (3*median_i) + (2 * mean_i) )\n",
    "                    if value < tolerance:\n",
    "\n",
    "                        symmetric.append(columns[index])\n",
    "                        symmetric.append(value)\n",
    "                        break\n",
    "    return symmetric\n",
    "print(\"a) set .3 as the cut off tolerance : \\n\" , findA(mean,mode,median, .3))\n",
    "#     find Mode  − 3 Median  +  2 Mean\n",
    "\n",
    "\n",
    "Q1 = dataSet.describe().loc['25%']\n",
    "Q3 = dataSet.describe().loc['75%']\n",
    "IQR = Q3 - Q1\n",
    "# 𝑄1−1.5𝐼𝑄𝑅  or falls above the number 𝑄3+1.5𝐼𝑄𝑅 \n",
    "\n",
    "def Findoutliers(Q1,Q3,IQR, df):\n",
    "    outliers = []\n",
    "    position = 0;\n",
    "    for column in df.columns:\n",
    "        outliers.append([0])\n",
    "        for index in df.index:\n",
    "            row = df[column].loc[index]\n",
    "            if row < (Q1[position]- (1.5*IQR[position])) or row > (𝑄3[position]+ (1.5*𝐼𝑄𝑅[position])):\n",
    "                outliers[position][0]=  outliers[position][0] + 1\n",
    "        position = position + 1 \n",
    "    return outliers\n",
    "\n",
    "\n",
    "outliers = Findoutliers(Q1,Q3,IQR, dataSet)\n",
    "answerB = pd.DataFrame([outliers],index =['outliers'], columns= dataSet.columns.to_numpy())\n",
    "print(\"\\nb) liars\")  \n",
    "answerB\n"
   ]
  },
  {
   "cell_type": "markdown",
   "metadata": {},
   "source": [
    "#### Problem 6 (Bonus, Optional, 10 points)\n",
    "A  new $\\geq 40$ year-old obese Pima Indian Women named Chenoa has the data as follows: Chenoa had 6 or more pregnancies, has a glucose reading of 140 or more, and has hypertension (any stage). What is the probability that Chenoa has diabetes?"
   ]
  },
  {
   "cell_type": "markdown",
   "metadata": {},
   "source": [
    "#### Note that a question like this is better answered using machine learning.\n",
    "# Please try using only the things we have learned thus far."
   ]
  },
  {
   "cell_type": "code",
   "execution_count": 44,
   "metadata": {},
   "outputs": [
    {
     "name": "stdout",
     "output_type": "stream",
     "text": [
      "builds a basic LinearRegression model and tests the new\n",
      "mean_absolute_error : 0.3274562543132554\n",
      "predict:  [0.57995954]\n",
      "for Pregnancies: 6 to 8, Glucose: 140 to 160 BPclass_oneHot: 1 to 3 Age: 40 to 55\n",
      "mean of 100 test patients:  0.6436131725871642\n"
     ]
    }
   ],
   "source": [
    "from sklearn import linear_model\n",
    "from sklearn.model_selection import train_test_split\n",
    "from sklearn.metrics import mean_absolute_error\n",
    "from sklearn.ensemble import RandomForestRegressor\n",
    "from sklearn.datasets import make_regression\n",
    "print(\"builds a basic LinearRegression model and tests the new\")\n",
    "\n",
    "dataSet = diabetes[['Pregnancies','Glucose','BloodPressure','SkinThickness','Insulin','BMI','DiabetesPedigreeFunction','Age','BPclass','BPclass_oneHot','Outcome']]\n",
    "X = dataSet[['Pregnancies','Glucose','BPclass_oneHot','Age']]\n",
    "Y = dataSet['Outcome']\n",
    "\n",
    "X_train, X_test, y_train, y_test = train_test_split(X, Y, test_size=0.20, random_state=42)\n",
    "\n",
    "# X, y = make_regression(n_features=4, n_informative=2,\n",
    "#                      random_state=0, shuffle=True)\n",
    "# regr = RandomForestRegressor(max_depth=2, random_state=0)\n",
    "\n",
    "regr = linear_model.LinearRegression()\n",
    "regr.fit(X_train, y_train)\n",
    "\n",
    "y_pred_test = regr.predict(X_test)\n",
    "l = []\n",
    "for n in range(100):\n",
    "    l.append([np.random.randint(6,8),np.random.randint(140,160),np.random.randint(1,3),np.random.randint(40,55) ])\n",
    "\n",
    "print('mean_absolute_error :', mean_absolute_error(y_test, y_pred_test))\n",
    "print('predict: ' , regr.predict([[6,140,2,45]]))\n",
    "print(\"for Pregnancies: 6 to 8, Glucose: 140 to 160 BPclass_oneHot: 1 to 3 Age: 40 to 55\")\n",
    "\n",
    "print('mean of 100 test patients: ' , regr.predict(l).mean())\n",
    "\n",
    "\n"
   ]
  },
  {
   "cell_type": "code",
   "execution_count": null,
   "metadata": {},
   "outputs": [],
   "source": []
  }
 ],
 "metadata": {
  "kernelspec": {
   "display_name": "Python 3",
   "language": "python",
   "name": "python3"
  },
  "language_info": {
   "codemirror_mode": {
    "name": "ipython",
    "version": 3
   },
   "file_extension": ".py",
   "mimetype": "text/x-python",
   "name": "python",
   "nbconvert_exporter": "python",
   "pygments_lexer": "ipython3",
   "version": "3.8.5"
  }
 },
 "nbformat": 4,
 "nbformat_minor": 2
}
