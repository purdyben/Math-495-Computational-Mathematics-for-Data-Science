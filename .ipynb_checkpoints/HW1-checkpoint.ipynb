{
 "cells": [
  {
   "cell_type": "code",
   "execution_count": 1,
   "metadata": {},
   "outputs": [],
   "source": [
    "import numpy as np\n",
    "import pandas as pd\n",
    "import matplotlib as mat\n",
    "import plotly as plot\n",
    "import sklearn as sklearn\n",
    "import string as string\n",
    "import math"
   ]
  },
  {
   "cell_type": "code",
   "execution_count": 2,
   "metadata": {
    "scrolled": true
   },
   "outputs": [],
   "source": [
    "# set up\n",
    "titanic = pd.read_csv(\"titanic.csv\") \n",
    "titanic = titanic.rename({'home.dest': 'dest'},axis='columns')\n",
    "def split(word): \n",
    "    return [char for char in word]"
   ]
  },
  {
   "cell_type": "code",
   "execution_count": 3,
   "metadata": {},
   "outputs": [
    {
     "name": "stdout",
     "output_type": "stream",
     "text": [
      "problem 1: \n",
      "List A ['p', 'n', 'e', 'u', 'm', 'o', 'n', 'o', 'u', 'l', 't', 'r', 'a', 'm', 'i', 'c', 'r', 'o', 's', 'c', 'o', 'p', 'i', 'c', 's', 'i', 'l', 'i', 'c', 'o', 'v', 'o', 'l', 'c', 'a', 'n', 'o', 'c', 'o', 'n', 'i', 'o', 's', 'i', 's', 'i', 's']\n",
      "Set B {'n', 's', 'v', 'u', 'o', 'r', 'm', 'c', 'l', 'i', 'p', 'a', 'e', 't'}\n",
      "Dictionary C {'n': 4, 's': 5, 'v': 1, 'u': 2, 'o': 9, 'r': 2, 'm': 2, 'c': 6, 'l': 3, 'i': 7, 'p': 2, 'a': 2, 'e': 1, 't': 1}\n"
     ]
    }
   ],
   "source": [
    "print(\"problem 1: \")\n",
    "partA = split(\"pneumonoultramicroscopicsilicovolcanoconiosisis\")\n",
    "partB = set(sorted(partA))\n",
    "partC = dict.fromkeys(partB,0);\n",
    "for ch in partA:\n",
    "    partC[ch] = partC[ch] + 1;\n",
    "    \n",
    "print(\"List A\", partA)\n",
    "print(\"Set B\",partB)\n",
    "print(\"Dictionary C\", partC)"
   ]
  },
  {
   "cell_type": "code",
   "execution_count": 4,
   "metadata": {},
   "outputs": [
    {
     "name": "stdout",
     "output_type": "stream",
     "text": [
      "problem 2: \n",
      "{'s', 'u', 'x', 'o', 'r', 'g', 'c', 'l', 'p', 'i', 'f', 'd', 'a', 'e', 't'} \n",
      "\n",
      "union A U B : ['a', 'c', 'd', 'e', 'f', 'g', 'i', 'l', 'm', 'n', 'o', 'p', 'r', 's', 't', 'u', 'v', 'x'] \n",
      "\n",
      "A - B : {'d', 'f', 'x', 'g'}\n",
      "B - A : {'n', 'v', 'm'}\n",
      "A ∆ B : {'m', 'f', 'v', 'x', 'n', 'd', 'g'}\n",
      "A -B = A intersection B complement\n",
      "True\n",
      "A - B = A complement intsection B\n",
      "False\n",
      "\n",
      "De Morgan’s law \n",
      "\n",
      "(A U B)' = A' ∩ B'\n",
      "(A U B)' =  {'z', 'j', 'k', 'q', 'y', 'h', 'w', 'b'}\n",
      " A' ∩ B' =  {'z', 'j', 'k', 'q', 'y', 'h', 'w', 'b'} : True\n",
      "(A U B)' = A' ∩ B'  : True\n",
      "\n",
      "(A ∩ B)' = A' U B'\n",
      "(A ∩ B)' =  {'z', 'j', 'g', 'm', 'k', 'q', 'f', 'y', 'h', 'd', 'w', 'n', 'b', 'x'}\n",
      " A' U B' =  {'j', 'g', 'k', 'f', 'y', 'h', 'n', 'b', 'd', 'x', 'z', 'm', 'q', 'w'} : True\n"
     ]
    }
   ],
   "source": [
    "print(\"problem 2: \")\n",
    "twoA = set(\"supercalifragilisticexpialidocious\")\n",
    "print(twoA, '\\n')\n",
    "unionAB = sorted(partB.union(twoA))\n",
    "print(\"union A U B :\",unionAB, '\\n')\n",
    "AnotB = (twoA - partB)\n",
    "BnotA = (partB - twoA)\n",
    "print(\"A - B :\", AnotB)\n",
    "print(\"B - A :\", BnotA)\n",
    "\n",
    "AdeltaB = AnotB.union(BnotA)\n",
    "print(\"A ∆ B :\", AdeltaB)\n",
    "\n",
    "A = twoA\n",
    "B = partB\n",
    "alphabet = set(\"abcdefghijklmnopqrstuwxyz\")\n",
    "print(\"A -B = A intersection B complement\")\n",
    "if A - B == A.intersection(alphabet - B):\n",
    "    print(True)\n",
    "else:\n",
    "    print(False)\n",
    "\n",
    "print(\"A - B = A complement intsection B\")\n",
    "if A - B == (alphabet - A).intersection( B):\n",
    "    print(True)\n",
    "else:\n",
    "    print(False)\n",
    "    \n",
    "print(\"\\nDe Morgan’s law \\n\")\n",
    "# Definition of De Morgan's law: ... The complement of the \n",
    "# union of two sets is equal to the intersection of their \n",
    "# complements and the complement of the intersection of two sets\n",
    "# is equal to the union of their complements. These are called De Morgan's laws.\n",
    "print(\"(A U B)' = A' ∩ B'\")\n",
    "print(\"(A U B)' = \", alphabet - B.union(A))\n",
    "print(\" A' ∩ B' = \",(alphabet - B).intersection(alphabet - A), \": True\" )\n",
    "print(\"(A U B)' = A' ∩ B'  : True\\n\" )\n",
    "print(\"(A ∩ B)' = A' U B'\")\n",
    "print(\"(A ∩ B)' = \", (alphabet - B.intersection(A)))\n",
    "print(\" A' U B' = \", (alphabet - B).union(alphabet - A), \": True\")\n",
    "\n",
    "\n",
    "\n",
    "\n"
   ]
  },
  {
   "cell_type": "code",
   "execution_count": 5,
   "metadata": {},
   "outputs": [
    {
     "name": "stdout",
     "output_type": "stream",
     "text": [
      "problem 3: \n",
      "Part A :  True\n",
      "1310\n",
      "1310\n",
      "6\n",
      "        fare  survived\n",
      "170   0.0000       1.0\n",
      "745   6.9500       1.0\n",
      "857   6.9750       1.0\n",
      "1082  3.1708       1.0\n",
      "1254  0.0000       1.0\n",
      "1290  7.0000       1.0\n",
      "part C : Name is 250    Ryerson, Miss. Emily Borie\n",
      "Name: name, dtype: object \n",
      "\n",
      "part D : number of people 1\n"
     ]
    }
   ],
   "source": [
    "print(\"problem 3: \")\n",
    "#a\n",
    "print(\"Part A : \",pd.isna(titanic.cabin).any() )\n",
    "#bcolumnsIndex\n",
    "# print(titanic.columns)\n",
    "print(len(titanic['fare']))\n",
    "print(len(titanic['survived']))\n",
    "data = titanic[['fare','survived']]\n",
    "\n",
    "for row in data.index:\n",
    "    if  data.loc[row, 'fare'] > 7.0 or data.loc[row, 'survived'] == 0 or math.isnan(data.loc[row, 'survived']):\n",
    "        data = data.drop(row, axis=0)\n",
    "\n",
    "print(len(data))\n",
    "print(data)\n",
    "\n",
    "#c\n",
    "print(\"part C : Name is\",titanic.query('age == 18 and sex == \"female\" and survived == 1 and embarked == \"C\" and dest == \"Haverford, PA / Cooperstown, NY\"')['name'],'\\n')\n",
    "#d\n",
    "# Did anybody who didn’t pay any fare, had no cabin and didn’t have a destination\n",
    "# survive?\n",
    "\n",
    "print(\"part D : number of people\",len(titanic.query('fare == 0 and survived == 1.0 and cabin.isnull() and dest.isnull()')))"
   ]
  },
  {
   "cell_type": "code",
   "execution_count": 76,
   "metadata": {},
   "outputs": [
    {
     "name": "stdout",
     "output_type": "stream",
     "text": [
      "problem 4:\n",
      "part A : \n",
      "33.29547928134557\n",
      "1005\n",
      "part B : \n",
      "part C : \n",
      "part D : \n",
      "             pclass  survived         age  sibsp  parch        fare     body\n",
      "luck                                                                        \n",
      "averageluck  2198.0     223.0  23075.0000  500.0  346.0  31980.2370  15636.0\n",
      "lucky         729.0     277.0   5260.1667  114.0  126.0   3998.9582      0.0\n",
      "unlucky        77.0       0.0   2920.5000   39.0   32.0   7571.2917   3822.0\n",
      "             pclass  survived         age  sibsp  parch        fare     body\n",
      "luck                                                                        \n",
      "averageluck  2198.0     223.0  23075.0000  500.0  346.0  31980.2370  15636.0\n",
      "lucky         729.0     277.0   5260.1667  114.0  126.0   3998.9582      0.0\n",
      "unlucky        77.0       0.0   2920.5000   39.0   32.0   7571.2917   3822.0\n",
      "averageluckaverageluckaverageluckaverageluckaverageluckaverageluckaverageluckaverageluckaverageluckaverageluckaverageluckaverageluckaverageluckaverageluckaverageluckaverageluckaverageluckaverageluckaverageluckaverageluckaverageluckaverageluckaverageluckaverageluckaverageluckaverageluckaverageluckaverageluckaverageluckaverageluckaverageluckaverageluckaverageluckaverageluckaverageluckaverageluckaverageluckaverageluckaverageluckaverageluckaverageluckaverageluckaverageluckaverageluckaverageluckaverageluckaverageluckaverageluckaverageluckaverageluckaverageluckaverageluckaverageluckaverageluckaverageluckaverageluckaverageluckaverageluckaverageluckaverageluckaverageluckaverageluckaverageluckaverageluckaverageluckaverageluckaverageluckaverageluckaverageluckaverageluckaverageluckaverageluckaverageluckaverageluckaverageluckaverageluckaverageluckaverageluckaverageluckaverageluckaverageluckaverageluckaverageluckaverageluckaverageluckaverageluckaverageluckaverageluckaverageluckaverageluckaverageluckaverageluckaverageluckaverageluckaverageluckaverageluckaverageluckaverageluckaverageluckaverageluckaverageluckaverageluckaverageluckaverageluckaverageluckaverageluckaverageluckaverageluckaverageluckaverageluckaverageluckaverageluckaverageluckaverageluckaverageluckaverageluckaverageluckaverageluckaverageluckaverageluckaverageluckaverageluckaverageluckaverageluckaverageluckaverageluckaverageluckaverageluckaverageluckaverageluckaverageluckaverageluckaverageluckaverageluckaverageluckaverageluckaverageluckaverageluckaverageluckaverageluckaverageluckaverageluckaverageluckaverageluckaverageluckaverageluckaverageluckaverageluckaverageluckaverageluckaverageluckaverageluckaverageluckaverageluckaverageluckaverageluckaverageluckaverageluckaverageluckaverageluckaverageluckaverageluckaverageluckaverageluckaverageluckaverageluckaverageluckaverageluckaverageluckaverageluckaverageluckaverageluckaverageluckaverageluckaverageluckaverageluckaverageluckaverageluckaverageluckaverageluckaverageluckaverageluckaverageluckaverageluckaverageluckaverageluckaverageluckaverageluckaverageluckaverageluckaverageluckaverageluckaverageluckaverageluckaverageluckaverageluckaverageluckaverageluckaverageluckaverageluckaverageluckaverageluckaverageluckaverageluckaverageluckaverageluckaverageluckaverageluckaverageluckaverageluckaverageluckaverageluckaverageluckaverageluckaverageluckaverageluckaverageluckaverageluckaverageluckaverageluckaverageluckaverageluckaverageluckaverageluckaverageluckaverageluckaverageluckaverageluckaverageluckaverageluckaverageluckaverageluckaverageluckaverageluckaverageluckaverageluckaverageluckaverageluckaverageluckaverageluckaverageluckaverageluckaverageluckaverageluckaverageluckaverageluckaverageluckaverageluckaverageluckaverageluckaverageluckaverageluckaverageluckaverageluckaverageluckaverageluckaverageluckaverageluckaverageluckaverageluckaverageluckaverageluckaverageluckaverageluckaverageluckaverageluckaverageluckaverageluckaverageluckaverageluckaverageluckaverageluckaverageluckaverageluckaverageluckaverageluckaverageluckaverageluckaverageluckaverageluckaverageluckaverageluckaverageluckaverageluckaverageluckaverageluckaverageluckaverageluckaverageluckaverageluckaverageluckaverageluckaverageluckaverageluckaverageluckaverageluckaverageluckaverageluckaverageluckaverageluckaverageluckaverageluckaverageluckaverageluckaverageluckaverageluckaverageluckaverageluckaverageluckaverageluckaverageluckaverageluckaverageluckaverageluckaverageluckaverageluckaverageluckaverageluckaverageluckaverageluckaverageluckaverageluckaverageluckaverageluckaverageluckaverageluckaverageluckaverageluckaverageluckaverageluckaverageluckaverageluckaverageluckaverageluckaverageluckaverageluckaverageluckaverageluckaverageluckaverageluckaverageluckaverageluckaverageluckaverageluckaverageluckaverageluckaverageluckaverageluckaverageluckaverageluckaverageluckaverageluckaverageluckaverageluckaverageluckaverageluckaverageluckaverageluckaverageluckaverageluckaverageluckaverageluckaverageluckaverageluckaverageluckaverageluckaverageluckaverageluckaverageluckaverageluckaverageluckaverageluckaverageluckaverageluckaverageluckaverageluckaverageluckaverageluckaverageluckaverageluckaverageluckaverageluckaverageluckaverageluckaverageluckaverageluckaverageluckaverageluckaverageluckaverageluckaverageluckaverageluckaverageluckaverageluckaverageluckaverageluckaverageluckaverageluckaverageluckaverageluckaverageluckaverageluckaverageluckaverageluckaverageluckaverageluckaverageluckaverageluckaverageluckaverageluckaverageluckaverageluckaverageluckaverageluckaverageluckaverageluckaverageluckaverageluckaverageluckaverageluckaverageluckaverageluckaverageluckaverageluckaverageluckaverageluckaverageluckaverageluckaverageluckaverageluckaverageluckaverageluckaverageluckaverageluckaverageluckaverageluckaverageluckaverageluckaverageluckaverageluckaverageluckaverageluckaverageluckaverageluckaverageluckaverageluckaverageluckaverageluckaverageluckaverageluckaverageluckaverageluckaverageluckaverageluckaverageluckaverageluckaverageluckaverageluckaverageluckaverageluckaverageluckaverageluckaverageluckaverageluckaverageluckaverageluckaverageluckaverageluckaverageluckaverageluckaverageluckaverageluckaverageluckaverageluckaverageluckaverageluckaverageluckaverageluckaverageluckaverageluckaverageluckaverageluckaverageluckaverageluckaverageluckaverageluckaverageluckaverageluckaverageluckaverageluckaverageluckaverageluckaverageluckaverageluckaverageluckaverageluckaverageluckaverageluckaverageluckaverageluckaverageluckaverageluckaverageluckaverageluckaverageluckaverageluckaverageluckaverageluckaverageluckaverageluckaverageluckaverageluckaverageluckaverageluckaverageluckaverageluckaverageluckaverageluckaverageluckaverageluckaverageluckaverageluckaverageluckaverageluckaverageluckaverageluckaverageluckaverageluckaverageluckaverageluckaverageluckaverageluckaverageluckaverageluckaverageluckaverageluckaverageluckaverageluckaverageluckaverageluckaverageluckaverageluckaverageluckaverageluckaverageluckaverageluckaverageluckaverageluckaverageluckaverageluckaverageluckaverageluckaverageluckaverageluckaverageluckaverageluckaverageluckaverageluckaverageluckaverageluckaverageluckaverageluckaverageluckaverageluckaverageluckaverageluckaverageluckaverageluckaverageluckaverageluckaverageluckaverageluckaverageluckaverageluckaverageluckaverageluckaverageluckaverageluckaverageluckaverageluckaverageluckaverageluckaverageluckaverageluckaverageluckaverageluckaverageluckaverageluckaverageluckaverageluckaverageluckaverageluckaverageluckaverageluckaverageluckaverageluckaverageluckaverageluckaverageluckaverageluckaverageluckaverageluckaverageluckaverageluckaverageluckaverageluckaverageluckaverageluckaverageluckaverageluckaverageluckaverageluckaverageluckaverageluckaverageluckaverageluckaverageluckaverageluckaverageluckaverageluckaverageluckaverageluckaverageluckaverageluckaverageluckaverageluckaverageluckaverageluckaverageluckaverageluckaverageluckaverageluckaverageluckaverageluckaverageluckaverageluckaverageluckaverageluckaverageluckaverageluckaverageluckaverageluckaverageluckaverageluckaverageluckaverageluckaverageluckaverageluckaverageluckaverageluckaverageluckaverageluckaverageluckaverageluckaverageluckaverageluckaverageluckaverageluckaverageluckaverageluckaverageluckaverageluckaverageluckaverageluckaverageluckaverageluckaverageluckaverageluckaverageluckaverageluckaverageluckaverageluckaverageluckaverageluckaverageluckaverageluckaverageluckaverageluckaverageluckaverageluckaverageluckaverageluckaverageluckaverageluckaverageluckaverageluckaverageluckaverageluckaverageluckaverageluckaverageluckaverageluckaverageluckaverageluckaverageluckaverageluckaverageluckaverageluckaverageluckaverageluckaverageluckaverageluckaverageluckaverageluckaverageluckaverageluckaverageluckaverageluckaverageluckaverageluckaverageluckaverageluckaverageluckaverageluckaverageluckaverageluckaverageluckaverageluckaverageluckaverageluckaverageluckaverageluckaverageluckaverageluckaverageluckaverageluckaverageluckaverageluckaverageluckaverageluckaverageluckaverageluckaverageluckaverageluckaverageluckaverageluckaverageluckaverageluckaverageluckaverageluckaverageluckaverageluckaverageluckaverageluckaverageluckaverageluckaverageluckaverageluckaverageluckaverageluckaverageluckaverageluckaverageluckaverageluckaverageluckaverageluckaverageluckaverageluckaverageluckaverageluckaverageluckaverageluckaverageluckaverageluckaverageluckaverageluckaverageluckaverageluckaverageluckaverageluckaverageluckaverageluckaverageluckaverageluckaverageluckaverageluckaverageluckaverageluckaverageluckaverageluckaverageluckaverageluckaverageluckaverageluckaverageluckaverageluckaverageluckaverageluckaverageluckaverageluckaverageluckaverageluckaverageluckaverageluckaverageluckaverageluckaverageluckaverageluckaverageluckaverageluckaverageluckaverageluckaverageluckaverageluckaverageluckaverageluckaverageluckaverageluckaverageluckaverageluckaverageluckaverageluckaverageluckaverageluckaverageluckaverageluckaverageluckaverageluckaverageluckaverageluckaverageluckaverageluckaverageluckaverageluckaverageluckaverageluckaverageluckaverageluckaverageluckaverageluckaverageluckaverageluckaverageluckaverageluckaverageluckaverageluckaverageluckaverageluckaverageluckaverageluckaverageluckaverageluckaverageluckaverageluckaverageluckaverageluckaverageluckaverageluckaverageluckaverageluckaverageluckaverageluckaverageluckaverageluckaverageluckaverageluckaverageluckaverageluckaverageluckaverageluckaverageluckaverageluckaverageluckaverageluckaverageluckaverageluckaverageluckaverageluckaverageluckaverageluckaverageluckaverageluckaverageluckaverageluckaverageluckaverageluckaverageluckaverageluckaverageluckaverageluckaverageluckaverageluckaverageluckaverageluckaverageluckaverageluckaverageluckaverageluckaverageluckaverageluckaverageluckaverageluckaverageluckaverageluckaverageluckaverageluckaverageluckaverageluckaverageluckaverageluckaverageluckaverageluckaverageluckaverageluckaverageluckaverageluckaverageluckaverageluckaverageluckaverageluckaverageluckaverageluckaverageluckaverageluckaverageluckaverageluckaverageluckaverageluckaverageluckaverageluckaverageluckaverageluckaverageluckaverageluckaverageluckaverageluckaverageluckaverageluckaverageluckaverageluckaverageluckaverageluckaverageluckaverageluckaverageluckaverageluckaverageluckaverageluckaverageluckaverageluckaverageluckaverageluckaverageluckaverageluckaverageluckaverageluckaverageluckaverageluckaverageluckaverageluckaverageluckaverageluckaverageluckaverageluckaverageluckaverageluckluckyluckyluckyluckyluckyluckyluckyluckyluckyluckyluckyluckyluckyluckyluckyluckyluckyluckyluckyluckyluckyluckyluckyluckyluckyluckyluckyluckyluckyluckyluckyluckyluckyluckyluckyluckyluckyluckyluckyluckyluckyluckyluckyluckyluckyluckyluckyluckyluckyluckyluckyluckyluckyluckyluckyluckyluckyluckyluckyluckyluckyluckyluckyluckyluckyluckyluckyluckyluckyluckyluckyluckyluckyluckyluckyluckyluckyluckyluckyluckyluckyluckyluckyluckyluckyluckyluckyluckyluckyluckyluckyluckyluckyluckyluckyluckyluckyluckyluckyluckyluckyluckyluckyluckyluckyluckyluckyluckyluckyluckyluckyluckyluckyluckyluckyluckyluckyluckyluckyluckyluckyluckyluckyluckyluckyluckyluckyluckyluckyluckyluckyluckyluckyluckyluckyluckyluckyluckyluckyluckyluckyluckyluckyluckyluckyluckyluckyluckyluckyluckyluckyluckyluckyluckyluckyluckyluckyluckyluckyluckyluckyluckyluckyluckyluckyluckyluckyluckyluckyluckyluckyluckyluckyluckyluckyluckyluckyluckyluckyluckyluckyluckyluckyluckyluckyluckyluckyluckyluckyluckyluckyluckyluckyluckyluckyluckyluckyluckyluckyluckyluckyluckyluckyluckyluckyluckyluckyluckyluckyluckyluckyluckyluckyluckyluckyluckyluckyluckyluckyluckyluckyluckyluckyluckyluckyluckyluckyluckyluckyluckyluckyluckyluckyluckyluckyluckyluckyluckyluckyluckyluckyluckyluckyluckyluckyluckyluckyluckyluckyluckyluckyluckyluckyluckyluckyluckyluckyluckyluckyluckyluckyluckyluckyluckyluckyluckyluckyluckyluckyluckyluckyluckyluckyluckyluckyluckyluckyunluckyunluckyunluckyunluckyunluckyunluckyunluckyunluckyunluckyunluckyunluckyunluckyunluckyunluckyunluckyunluckyunluckyunluckyunluckyunluckyunluckyunluckyunluckyunluckyunluckyunluckyunluckyunluckyunluckyunluckyunluckyunluckyunluckyunluckyunluckyunluckyunluckyunluckyunluckyunluckyunluckyunluckyunluckyunluckyunluckyunluckyunluckyunluckyunluckyunluckyunluckyunluckyunluckyunluckyunluckyunluckyunluckyunluckyunluckyunluckyunluckyunluckyunluckyunluckyunluckyunluckyunluckyunluckyunluckyunluckyunluckyunluckyunluckyunluckyunluckyunluckyunlucky\n"
     ]
    }
   ],
   "source": [
    "print(\"problem 4:\")\n",
    "\n",
    "print(\"part A : \")\n",
    "fareMean = (titanic['fare']).mean()\n",
    "print(fareMean)\n",
    "subsetFM = titanic.query('fare-@fareMean < .5')\n",
    "print(len(subsetFM))\n",
    "print(\"part B : \")\n",
    "\n",
    "print(\"part C : \")\n",
    "titanic = titanic.assign(luck = setUpLucky()) \n",
    "def setUpLucky():\n",
    "    l = []\n",
    "    \n",
    "    for index in titanic.index:\n",
    "        row = titanic.loc[index]\n",
    "        if row['pclass'] == 1 and row['fare'] > fareMean and row['survived'] == 0:\n",
    "            l.append('unlucky')\n",
    "        elif row['pclass'] > 1 and row['fare'] <= fareMean and row['survived'] == 1 :\n",
    "            l.append('lucky')\n",
    "        else:\n",
    "\n",
    "         l.append('averageluck')\n",
    "    return l\n",
    "print(\"part D : \")\n",
    "# titanic.groupby(['unlucky','lucky','averageluck'])['luck'].sum\n",
    "print(titanic.groupby(by='luck', dropna=False).sum())\n",
    "print(titanic.groupby('luck').sum())\n",
    "print(titanic.groupby('luck')['luck'].apply(lambda x: x.sum()))"
   ]
  },
  {
   "cell_type": "code",
   "execution_count": null,
   "metadata": {},
   "outputs": [],
   "source": []
  }
 ],
 "metadata": {
  "kernelspec": {
   "display_name": "Python 3",
   "language": "python",
   "name": "python3"
  },
  "language_info": {
   "codemirror_mode": {
    "name": "ipython",
    "version": 3
   },
   "file_extension": ".py",
   "mimetype": "text/x-python",
   "name": "python",
   "nbconvert_exporter": "python",
   "pygments_lexer": "ipython3",
   "version": "3.8.5"
  }
 },
 "nbformat": 4,
 "nbformat_minor": 4
}
